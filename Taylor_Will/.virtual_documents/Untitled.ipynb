


import numpy as np
import pandas as pd
import matplotlib.pyplot as plt
import seaborn as sns





df = pd.read_csv('./2410_iPAGE_SoilData_241029.csv')
df.head()


df.info()


# The numerical data mostly loaded as the wrong data type so I will change those
# Also grouping numerical and categorical variables

numerical_cols = ['pH', 'SOC (%)', 'Nitrogen N (%)', 'Potassium K (meq/100)', 
              'Phosphorus P (ug/g)', 'Sulfur S (ug/g)', 'Boron B (ug/g)', 
              'Zinc Zn (ug/g)']

categorical_cols = ['Area', 'soil group', 'Land class', 'knit (surface)']

# Convert columns to float64
df[numerical_cols] = df[numerical_cols].apply(pd.to_numeric, errors='coerce')

df.info()


df.describe()








df = df.dropna()

df.info()





# First we will look at the distribution of the categorical variables

# Plot bar charts for each categorical variable
plt.figure(figsize=(14, 10))
for i, col in enumerate(categorical_cols, 1):
    plt.subplot(2, 2, i)  # Adjust rows and columns based on the number of variables
    df[col].value_counts().plot(kind='bar', color='teal', edgecolor='black')
    plt.title(f"Frequencyof {col}")
    plt.xlabel(col)
    plt.ylabel("Frequency")
plt.tight_layout()
plt.show()


# Plot histograms for each numerical feature
plt.figure(figsize=(14, 10))
for i, col in enumerate(numerical_cols, 1):
    plt.subplot(len(numerical_cols) // 3 + 1, 3, i)
    df[col].hist(bins=15, color='teal', edgecolor='black')
    plt.title(f"Histogram of {col}")
    plt.xlabel(col)
    plt.ylabel("Frequency")
plt.tight_layout()
plt.show()


# Plot violin plots for each numerical feature
plt.figure(figsize=(14, 10))
for i, col in enumerate(numerical_cols, 1):
    plt.subplot(len(numerical_cols) // 3 + 1, 3, i)
    sns.violinplot(data=df, x=col, color='teal')
    plt.title(f"Violin Plot of {col}")
plt.tight_layout()
plt.show()





# I'm just going to remove the top 5% of values from the data
# This is just for visualizing purposes so I can see the distributions better

upper_thresh = 0.97

df_trimmed = df.copy()

for col in numerical_cols:
    upper_bound = df[col].quantile(upper_thresh)
    df_trimmed = df_trimmed[(df_trimmed[col] < upper_bound)]

# Plot histograms for each numerical feature
plt.figure(figsize=(14, 10))
for i, col in enumerate(numerical_cols, 1):
    plt.subplot(len(numerical_cols) // 3 + 1, 3, i)
    df_trimmed[col].hist(bins=15, color='teal', edgecolor='black')
    plt.title(f"Histogram of {col}")
    plt.xlabel(col)
    plt.ylabel("Frequency")
plt.tight_layout()
plt.show()

# Plot violin plots for each numerical feature
plt.figure(figsize=(14, 10))
for i, col in enumerate(numerical_cols, 1):
    plt.subplot(len(numerical_cols) // 3 + 1, 3, i)
    sns.violinplot(data=df_trimmed, x=col, color='teal')
    plt.title(f"Violin Plot of {col}")
plt.tight_layout()
plt.show()





# Calculate the correlation matrix for the numerical columns
corr_matrix = df_trimmed[numerical_cols].corr()

# Plot the correlation matrix using a heatmap
plt.figure(figsize=(10, 8))
sns.heatmap(corr_matrix, annot=True, cmap='coolwarm', center=0, fmt=".2f", linewidths=0.5)
plt.title("Correlation Matrix of Numerical Columns (Trimmed Data)")
plt.show()








# Define target variables
target_cols = ['SOC (%)', 'Boron B (ug/g)', 'Zinc Zn (ug/g)']

# Loop through each target variable and categorical variable
for target in target_cols:
    for categorical in categorical_cols:
        plt.figure(figsize=(14, 10))
        for i, col in enumerate(numerical_cols, 1):
            if col != target:  # Exclude self-plotting of target variable
                plt.subplot(len(numerical_cols) // 3 + 1, 3, i)
                sns.scatterplot(data=df_trimmed, x=col, y=target, hue=categorical, palette='Set1')
                plt.title(f"{target} vs {col} by {categorical}")
                plt.xlabel(col)
                plt.ylabel(target)
        plt.tight_layout()
        plt.suptitle(f"Scatter Plots for {target} with {categorical} Overlay", y=1.02)
        plt.show()



