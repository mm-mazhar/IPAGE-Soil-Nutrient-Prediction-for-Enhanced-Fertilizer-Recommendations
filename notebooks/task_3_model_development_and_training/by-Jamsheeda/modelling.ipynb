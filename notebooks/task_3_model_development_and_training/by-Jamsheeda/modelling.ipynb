{
 "cells": [
  {
   "cell_type": "markdown",
   "metadata": {},
   "source": [
    "### Steps involved in model building:\n",
    "1. Splitting the data into train and test\n",
    "2. Preprocessing \n",
    "3. Fitting a model\n",
    "4. Evaluating the performance"
   ]
  },
  {
   "cell_type": "code",
   "execution_count": 6,
   "metadata": {},
   "outputs": [],
   "source": [
    "import pandas as pd\n",
    "from sklearn.metrics import mean_absolute_error\n",
    "from sklearn.model_selection import train_test_split\n",
    "from sklearn.ensemble import RandomForestRegressor\n"
   ]
  },
  {
   "cell_type": "code",
   "execution_count": 3,
   "metadata": {},
   "outputs": [
    {
     "data": {
      "text/plain": [
       "Index(['Area', 'soil group', 'Land class', 'knit (surface)', 'pH', 'SOC (%)',\n",
       "       'Nitrogen N (%)', 'Potassium K (meq/100)', 'Phosphorus P (ug/g)',\n",
       "       'Sulfur S (ug/g)', 'Boron B (ug/g)', 'Zinc Zn (ug/g)'],\n",
       "      dtype='object')"
      ]
     },
     "execution_count": 3,
     "metadata": {},
     "output_type": "execute_result"
    }
   ],
   "source": [
    "df = pd.read_excel('./Data/2410_iPAGE_SoilData_cleaned.xlsx')\n",
    "df.columns"
   ]
  },
  {
   "cell_type": "markdown",
   "metadata": {},
   "source": [
    "#### Inputs to the model : \n",
    "       'Area', 'soil group', 'Land class', 'knit (surface)', 'pH', ,\n",
    "       'Nitrogen N (%)', 'Potassium K (meq/100)', 'Phosphorus P (ug/g)',\n",
    "       'Sulfur S (ug/g)'\n",
    "#### Outputs from the model : \n",
    "        'SOC (%)','Boron B (ug/g)', 'Zinc Zn (ug/g)'"
   ]
  },
  {
   "cell_type": "code",
   "execution_count": 9,
   "metadata": {},
   "outputs": [
    {
     "name": "stdout",
     "output_type": "stream",
     "text": [
      "(494, 9) (494, 3)\n",
      "(124, 9) (124, 3)\n"
     ]
    }
   ],
   "source": [
    "## Train test split\n",
    "\n",
    "X = df[['Area', 'soil group', 'Land class', 'knit (surface)', 'pH',\n",
    "       'Nitrogen N (%)', 'Potassium K (meq/100)', 'Phosphorus P (ug/g)',\n",
    "       'Sulfur S (ug/g)']]\n",
    "y = df[['SOC (%)','Boron B (ug/g)', 'Zinc Zn (ug/g)']]\n",
    "X_train, X_test, y_train, y_test = train_test_split(\n",
    "    X, y, test_size=0.2, random_state=42)\n",
    "\n",
    "print(X_train.shape,y_train.shape)\n",
    "print(X_test.shape,y_test.shape)\n",
    "\n"
   ]
  },
  {
   "cell_type": "markdown",
   "metadata": {},
   "source": [
    "#### Preprocessing"
   ]
  },
  {
   "cell_type": "code",
   "execution_count": null,
   "metadata": {},
   "outputs": [],
   "source": [
    "### Preprocessing step\n"
   ]
  },
  {
   "cell_type": "code",
   "execution_count": 17,
   "metadata": {},
   "outputs": [
    {
     "data": {
      "text/html": [
       "<div>\n",
       "<style scoped>\n",
       "    .dataframe tbody tr th:only-of-type {\n",
       "        vertical-align: middle;\n",
       "    }\n",
       "\n",
       "    .dataframe tbody tr th {\n",
       "        vertical-align: top;\n",
       "    }\n",
       "\n",
       "    .dataframe thead th {\n",
       "        text-align: right;\n",
       "    }\n",
       "</style>\n",
       "<table border=\"1\" class=\"dataframe\">\n",
       "  <thead>\n",
       "    <tr style=\"text-align: right;\">\n",
       "      <th></th>\n",
       "      <th>pH</th>\n",
       "      <th>Nitrogen N (%)</th>\n",
       "      <th>Potassium K (meq/100)</th>\n",
       "      <th>Phosphorus P (ug/g)</th>\n",
       "      <th>Sulfur S (ug/g)</th>\n",
       "    </tr>\n",
       "  </thead>\n",
       "  <tbody>\n",
       "    <tr>\n",
       "      <th>531</th>\n",
       "      <td>4.4</td>\n",
       "      <td>0.0800</td>\n",
       "      <td>0.33</td>\n",
       "      <td>185.0</td>\n",
       "      <td>12.0</td>\n",
       "    </tr>\n",
       "    <tr>\n",
       "      <th>364</th>\n",
       "      <td>5.5</td>\n",
       "      <td>0.0032</td>\n",
       "      <td>0.51</td>\n",
       "      <td>60.0</td>\n",
       "      <td>17.0</td>\n",
       "    </tr>\n",
       "    <tr>\n",
       "      <th>177</th>\n",
       "      <td>5.7</td>\n",
       "      <td>0.1100</td>\n",
       "      <td>0.09</td>\n",
       "      <td>4.4</td>\n",
       "      <td>9.8</td>\n",
       "    </tr>\n",
       "    <tr>\n",
       "      <th>593</th>\n",
       "      <td>5.6</td>\n",
       "      <td>0.1400</td>\n",
       "      <td>0.14</td>\n",
       "      <td>11.0</td>\n",
       "      <td>20.0</td>\n",
       "    </tr>\n",
       "    <tr>\n",
       "      <th>199</th>\n",
       "      <td>5.2</td>\n",
       "      <td>0.1900</td>\n",
       "      <td>0.15</td>\n",
       "      <td>4.3</td>\n",
       "      <td>24.5</td>\n",
       "    </tr>\n",
       "  </tbody>\n",
       "</table>\n",
       "</div>"
      ],
      "text/plain": [
       "      pH  Nitrogen N (%)  Potassium K (meq/100)  Phosphorus P (ug/g)  \\\n",
       "531  4.4          0.0800                   0.33                185.0   \n",
       "364  5.5          0.0032                   0.51                 60.0   \n",
       "177  5.7          0.1100                   0.09                  4.4   \n",
       "593  5.6          0.1400                   0.14                 11.0   \n",
       "199  5.2          0.1900                   0.15                  4.3   \n",
       "\n",
       "     Sulfur S (ug/g)  \n",
       "531             12.0  \n",
       "364             17.0  \n",
       "177              9.8  \n",
       "593             20.0  \n",
       "199             24.5  "
      ]
     },
     "execution_count": 17,
     "metadata": {},
     "output_type": "execute_result"
    }
   ],
   "source": [
    "X_train.iloc[:,4:].head()"
   ]
  },
  {
   "cell_type": "markdown",
   "metadata": {},
   "source": [
    "#### Baseline model :\n",
    "In order to have an understanding of the performance of our model, it is important to have a baseline model. Here I am taking the average of the values in the training set as the prediction.\n",
    "ie, the prediction for Boron is the average of the Boron values in the training set"
   ]
  },
  {
   "cell_type": "code",
   "execution_count": 46,
   "metadata": {},
   "outputs": [
    {
     "name": "stdout",
     "output_type": "stream",
     "text": [
      "0.5208686604849593\n"
     ]
    }
   ],
   "source": [
    "# creating a prediction dataframe with the mean values from training data\n",
    "y_predict_baseline = pd.DataFrame().reindex_like(y_test)\n",
    "y_predict_baseline.iloc[0]=y_train.mean()\n",
    "y_predict_baseline = y_predict_baseline.ffill()\n",
    "print(mean_absolute_error(y_test,y_predict_baseline))"
   ]
  },
  {
   "cell_type": "markdown",
   "metadata": {},
   "source": [
    "#### Random forest regressor"
   ]
  },
  {
   "cell_type": "code",
   "execution_count": 49,
   "metadata": {},
   "outputs": [
    {
     "name": "stdout",
     "output_type": "stream",
     "text": [
      "MAE:  0.4488058333333334\n"
     ]
    }
   ],
   "source": [
    "# A random forest regressor trained on only the numeric columns of the training data\n",
    "model = RandomForestRegressor().fit(X=X_train.iloc[:,4:],y=y_train)\n",
    "y_predict = model.predict(X_test.iloc[:,4:])\n",
    "print('Mean Absolute Error : ',mean_absolute_error(y_test,y_predict))"
   ]
  },
  {
   "cell_type": "code",
   "execution_count": 51,
   "metadata": {},
   "outputs": [
    {
     "data": {
      "text/plain": [
       "pH                       0.095454\n",
       "Nitrogen N (%)           0.301528\n",
       "Potassium K (meq/100)    0.235972\n",
       "Phosphorus P (ug/g)      0.238445\n",
       "Sulfur S (ug/g)          0.128601\n",
       "dtype: float64"
      ]
     },
     "execution_count": 51,
     "metadata": {},
     "output_type": "execute_result"
    }
   ],
   "source": [
    "pd.Series(data=model.feature_importances_,index=X_train.columns[4:])"
   ]
  },
  {
   "cell_type": "code",
   "execution_count": 19,
   "metadata": {},
   "outputs": [],
   "source": [
    "# A random forest regressor trained on only the numeric columns of the training data"
   ]
  },
  {
   "cell_type": "code",
   "execution_count": 27,
   "metadata": {},
   "outputs": [
    {
     "data": {
      "text/plain": [
       "Text(0, 0.5, 'y_predict')"
      ]
     },
     "execution_count": 27,
     "metadata": {},
     "output_type": "execute_result"
    },
    {
     "data": {
      "image/png": "[encoded data removed]",
      "text/plain": [
       "<Figure size 640x480 with 1 Axes>"
      ]
     },
     "metadata": {},
     "output_type": "display_data"
    }
   ],
   "source": [
    "import matplotlib.pyplot as plt\n",
    "plt.scatter(y_test,y_predict)\n",
    "plt.xlabel('y_true')\n",
    "plt.ylabel('y_predict')"
   ]
  },
  {
   "cell_type": "markdown",
   "metadata": {},
   "source": []
  }
 ],
 "metadata": {
  "kernelspec": {
   "display_name": "base_env",
   "language": "python",
   "name": "python3"
  },
  "language_info": {
   "codemirror_mode": {
    "name": "ipython",
    "version": 3
   },
   "file_extension": ".py",
   "mimetype": "text/x-python",
   "name": "python",
   "nbconvert_exporter": "python",
   "pygments_lexer": "ipython3",
   "version": "3.10.15"
  }
 },
 "nbformat": 4,
 "nbformat_minor": 2
}
