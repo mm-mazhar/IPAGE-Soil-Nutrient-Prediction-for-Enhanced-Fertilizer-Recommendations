{
 "cells": [
  {
   "cell_type": "markdown",
   "metadata": {},
   "source": [
    "### Steps involved in model building:\n",
    "1. Splitting the data into train and test\n",
    "2. Preprocessing \n",
    "3. Fitting a model\n",
    "4. Evaluating the performance"
   ]
  },
  {
   "cell_type": "code",
   "execution_count": 88,
   "metadata": {},
   "outputs": [],
   "source": [
    "import numpy as np\n",
    "import pandas as pd\n",
    "from sklearn.metrics import mean_absolute_error,mean_absolute_percentage_error,r2_score\n",
    "from sklearn.model_selection import train_test_split\n",
    "from sklearn.ensemble import RandomForestRegressor\n",
    "import matplotlib.pyplot as plt\n",
    "import mlflow\n"
   ]
  },
  {
   "cell_type": "code",
   "execution_count": 89,
   "metadata": {},
   "outputs": [
    {
     "data": {
      "text/plain": [
       "Index(['Area', 'soil group', 'Land class', 'knit (surface)', 'pH', 'SOC (%)',\n",
       "       'Nitrogen N (%)', 'Potassium K (meq/100)', 'Phosphorus P (ug/g)',\n",
       "       'Sulfur S (ug/g)', 'Boron B (ug/g)', 'Zinc Zn (ug/g)'],\n",
       "      dtype='object')"
      ]
     },
     "execution_count": 89,
     "metadata": {},
     "output_type": "execute_result"
    }
   ],
   "source": [
    "df = pd.read_excel('./Data/2410_iPAGE_SoilData_original.xlsx')\n",
    "df.columns"
   ]
  },
  {
   "cell_type": "code",
   "execution_count": 90,
   "metadata": {},
   "outputs": [],
   "source": [
    "# converting all the 'non numerical' values in the numerical columns to NaN\n",
    "for i in range(4,len(df.columns)):\n",
    "    df[df.columns[i]] = pd.to_numeric(df[df.columns[i]],errors='coerce')"
   ]
  },
  {
   "cell_type": "code",
   "execution_count": 91,
   "metadata": {},
   "outputs": [
    {
     "data": {
      "text/plain": [
       "Index(['pH', 'SOC (%)', 'Nitrogen N (%)', 'Potassium K (meq/100)',\n",
       "       'Phosphorus P (ug/g)', 'Sulfur S (ug/g)', 'Boron B (ug/g)',\n",
       "       'Zinc Zn (ug/g)'],\n",
       "      dtype='object')"
      ]
     },
     "execution_count": 91,
     "metadata": {},
     "output_type": "execute_result"
    }
   ],
   "source": [
    "df.columns[4:]"
   ]
  },
  {
   "cell_type": "code",
   "execution_count": 92,
   "metadata": {},
   "outputs": [
    {
     "name": "stdout",
     "output_type": "stream",
     "text": [
      "(618, 12)\n",
      "(581, 12)\n"
     ]
    }
   ],
   "source": [
    "# Now we drop the rows with NaN, but we also have text columns with NaN values, which we are avoiding here\n",
    "print(df.shape)\n",
    "df = df.dropna(subset=df.columns[4:])\n",
    "print(df.shape)\n"
   ]
  },
  {
   "cell_type": "markdown",
   "metadata": {},
   "source": [
    "#### Inputs to the model : \n",
    "       'Area', 'soil group', 'Land class', 'knit (surface)', 'pH', ,\n",
    "       'Nitrogen N (%)', 'Potassium K (meq/100)', 'Phosphorus P (ug/g)',\n",
    "       'Sulfur S (ug/g)'\n",
    "#### Outputs from the model : \n",
    "        'SOC (%)','Boron B (ug/g)', 'Zinc Zn (ug/g)'"
   ]
  },
  {
   "cell_type": "code",
   "execution_count": 93,
   "metadata": {},
   "outputs": [
    {
     "name": "stdout",
     "output_type": "stream",
     "text": [
      "(464, 9) (464, 3)\n",
      "(117, 9) (117, 3)\n"
     ]
    }
   ],
   "source": [
    "## Train test split\n",
    "\n",
    "X = df[['Area', 'soil group', 'Land class', 'knit (surface)', 'pH',\n",
    "       'Nitrogen N (%)', 'Potassium K (meq/100)', 'Phosphorus P (ug/g)',\n",
    "       'Sulfur S (ug/g)']]\n",
    "y = df[['SOC (%)','Boron B (ug/g)', 'Zinc Zn (ug/g)']]\n",
    "X_train, X_test, y_train, y_test = train_test_split(\n",
    "    X, y, test_size=0.2, random_state=42)\n",
    "\n",
    "print(X_train.shape,y_train.shape)\n",
    "print(X_test.shape,y_test.shape)\n",
    "\n"
   ]
  },
  {
   "cell_type": "markdown",
   "metadata": {},
   "source": [
    "#### Preprocessing"
   ]
  },
  {
   "cell_type": "code",
   "execution_count": 94,
   "metadata": {},
   "outputs": [],
   "source": [
    "### Preprocessing step\n"
   ]
  },
  {
   "cell_type": "code",
   "execution_count": 95,
   "metadata": {},
   "outputs": [
    {
     "data": {
      "text/plain": [
       "<Experiment: artifact_location='file:///Users/jamsheedakadengal/Desktop/Omdena/IPAGE/notebooks/task_3_model_development_and_training/by-Jamsheeda/mlruns/671194069552090611', creation_time=1730896677286, experiment_id='671194069552090611', last_update_time=1730896677286, lifecycle_stage='active', name='first exp', tags={}>"
      ]
     },
     "execution_count": 95,
     "metadata": {},
     "output_type": "execute_result"
    }
   ],
   "source": [
    "mlflow.set_experiment('first exp')"
   ]
  },
  {
   "cell_type": "markdown",
   "metadata": {},
   "source": [
    "#### Baseline model :\n",
    "In order to have an understanding of the performance of our model, it is important to have a baseline model. Here I am taking the average of the values in the training set as the prediction.\n",
    "ie, the prediction for Boron is the average of the Boron values in the training set"
   ]
  },
  {
   "cell_type": "code",
   "execution_count": 96,
   "metadata": {},
   "outputs": [
    {
     "name": "stdout",
     "output_type": "stream",
     "text": [
      "0.6406958904498251\n"
     ]
    }
   ],
   "source": [
    "# creating a prediction dataframe with the mean values from training data\n",
    "with mlflow.start_run(description=\"mean of target columns in training dataset\"):\n",
    "    y_predict_baseline = pd.DataFrame().reindex_like(y_test)\n",
    "    y_predict_baseline.iloc[0]=y_train.mean()\n",
    "    y_predict_baseline = y_predict_baseline.ffill()\n",
    "    r2_baseline = r2_score(y_test,y_predict_baseline)\n",
    "    mape_baseline = mean_absolute_percentage_error(y_pred=y_predict_baseline,y_true=y_test)\n",
    "    print(mape_baseline)\n",
    "    mlflow.log_params({\"model\":\"mean of target columns in training dataset\"})\n",
    "    mlflow.log_metrics({\"R2\":r2_baseline,\"MAPE\":mape_baseline})"
   ]
  },
  {
   "cell_type": "code",
   "execution_count": 97,
   "metadata": {},
   "outputs": [
    {
     "data": {
      "image/png": "[encoded data removed]",
      "text/plain": [
       "<Figure size 2000x300 with 3 Axes>"
      ]
     },
     "metadata": {},
     "output_type": "display_data"
    }
   ],
   "source": [
    "#plotting the predictions vs true for baseline\n",
    "plt.rcParams[\"figure.figsize\"] = (20,3)\n",
    "figure, axis = plt.subplots(1, 3)\n",
    "\n",
    "for i in range(3):\n",
    "    axis[i].scatter(y_test[y_test.columns[i]],y_predict_baseline[y_test.columns[i]])\n",
    "    axis[i].set_title(y_test.columns[i])"
   ]
  },
  {
   "cell_type": "markdown",
   "metadata": {},
   "source": [
    "#### Random forest regressor"
   ]
  },
  {
   "cell_type": "code",
   "execution_count": 98,
   "metadata": {},
   "outputs": [
    {
     "name": "stdout",
     "output_type": "stream",
     "text": [
      "r2 :  -4.400441506778435\n",
      "MAPE:  0.5769010005024895\n"
     ]
    }
   ],
   "source": [
    "# A random forest regressor trained on only the numeric columns of the training data\n",
    "with mlflow.start_run(description=\"Random forest with only numerical columns\"):\n",
    "    model = RandomForestRegressor().fit(X=X_train.iloc[:,4:],y=y_train)\n",
    "    y_predict = model.predict(X_test.iloc[:,4:])\n",
    "    r2 = r2_score(y_test,y_predict)\n",
    "    mape = mean_absolute_percentage_error(y_pred=y_predict,y_true=y_test)\n",
    "    print('r2 : ',r2)\n",
    "    print('MAPE: ',mape)\n",
    "    mlflow.log_params({\"model\":\"Random forest with only numerical columns\"})\n",
    "    mlflow.log_metrics({\"R2\":r2,\"MAPE\":mape})"
   ]
  },
  {
   "cell_type": "code",
   "execution_count": 99,
   "metadata": {},
   "outputs": [
    {
     "data": {
      "text/plain": [
       "pH                       0.101375\n",
       "Nitrogen N (%)           0.149368\n",
       "Potassium K (meq/100)    0.149138\n",
       "Phosphorus P (ug/g)      0.236684\n",
       "Sulfur S (ug/g)          0.363435\n",
       "dtype: float64"
      ]
     },
     "execution_count": 99,
     "metadata": {},
     "output_type": "execute_result"
    }
   ],
   "source": [
    "# feature importance\n",
    "pd.Series(data=model.feature_importances_,index=X_train.columns[4:])"
   ]
  },
  {
   "cell_type": "code",
   "execution_count": 100,
   "metadata": {},
   "outputs": [
    {
     "name": "stdout",
     "output_type": "stream",
     "text": [
      "r2 :  0.014875978649261637\n",
      "MAPE:  0.6167393516641692\n"
     ]
    }
   ],
   "source": [
    "# A ridge regressor trained on only the numeric columns of the training data\n",
    "from sklearn.linear_model import LinearRegression\n",
    "with mlflow.start_run(description=\"Linear regressor with only numerical columns\"):\n",
    "    model = LinearRegression().fit(X=X_train.iloc[:,4:],y=y_train)\n",
    "    y_predict = model.predict(X_test.iloc[:,4:])\n",
    "    r2 = r2_score(y_test,y_predict)\n",
    "    mape = mean_absolute_percentage_error(y_pred=y_predict,y_true=y_test)\n",
    "    print('r2 : ',r2)\n",
    "    print('MAPE: ',mape)\n",
    "    mlflow.log_params({\"model\":\"Linear regressor with only numerical columns\"})\n",
    "    mlflow.log_metrics({\"R2\":r2,\"MAPE\":mape})"
   ]
  },
  {
   "cell_type": "code",
   "execution_count": 101,
   "metadata": {},
   "outputs": [
    {
     "data": {
      "image/png": "[encoded data removed]",
      "text/plain": [
       "<Figure size 2000x300 with 3 Axes>"
      ]
     },
     "metadata": {},
     "output_type": "display_data"
    }
   ],
   "source": [
    "# Initialise the subplot function using number of rows and columns\n",
    "plt.rcParams[\"figure.figsize\"] = (20,3)\n",
    "figure, axis = plt.subplots(1, 3)\n",
    "\n",
    "for i in range(3):\n",
    "    axis[i].scatter(y_test[y_test.columns[i]],y_predict[:,i])\n",
    "    axis[i].set_title(y_test.columns[i])"
   ]
  },
  {
   "cell_type": "markdown",
   "metadata": {},
   "source": [
    "#### Random Forest Regressor including the text columns"
   ]
  },
  {
   "cell_type": "markdown",
   "metadata": {},
   "source": []
  },
  {
   "cell_type": "code",
   "execution_count": 102,
   "metadata": {},
   "outputs": [],
   "source": [
    "# Preprocessing Label encoder\n",
    "# There are 5 unique 'Area', 27 unique 'Soil group',5 unique 'Land class' and 5 unique knit (surface)\n",
    "# SInce there are about 164 NaNs in knit (surface) , we are not considering it at the moment\n",
    "# Using Labelencoder for encoding\n",
    "from sklearn.preprocessing import LabelEncoder\n",
    "for i in range(3):\n",
    "    le = LabelEncoder()\n",
    "    # Fit and transform the target variable\n",
    "    X_train.iloc[:,i] = le.fit_transform(X_train.iloc[:,i])\n",
    "    #X_test.iloc[:,i] = le.transform(X_test.iloc[:,i])\n",
    "    X_test.iloc[:,i] = X_test.iloc[:,i].map(lambda s: '<unknown>' if s not in le.classes_ else s)\n",
    "    le.classes_ = np.append(le.classes_, '<unknown>')\n",
    "    X_test.iloc[:,i] = le.transform(X_test.iloc[:,i])\n"
   ]
  },
  {
   "cell_type": "code",
   "execution_count": 103,
   "metadata": {},
   "outputs": [
    {
     "data": {
      "text/html": [
       "<div>\n",
       "<style scoped>\n",
       "    .dataframe tbody tr th:only-of-type {\n",
       "        vertical-align: middle;\n",
       "    }\n",
       "\n",
       "    .dataframe tbody tr th {\n",
       "        vertical-align: top;\n",
       "    }\n",
       "\n",
       "    .dataframe thead th {\n",
       "        text-align: right;\n",
       "    }\n",
       "</style>\n",
       "<table border=\"1\" class=\"dataframe\">\n",
       "  <thead>\n",
       "    <tr style=\"text-align: right;\">\n",
       "      <th></th>\n",
       "      <th>Area</th>\n",
       "      <th>soil group</th>\n",
       "      <th>Land class</th>\n",
       "      <th>knit (surface)</th>\n",
       "      <th>pH</th>\n",
       "      <th>Nitrogen N (%)</th>\n",
       "      <th>Potassium K (meq/100)</th>\n",
       "      <th>Phosphorus P (ug/g)</th>\n",
       "      <th>Sulfur S (ug/g)</th>\n",
       "    </tr>\n",
       "  </thead>\n",
       "  <tbody>\n",
       "    <tr>\n",
       "      <th>462</th>\n",
       "      <td>1</td>\n",
       "      <td>5</td>\n",
       "      <td>1</td>\n",
       "      <td>loam</td>\n",
       "      <td>5.7</td>\n",
       "      <td>0.11</td>\n",
       "      <td>0.11</td>\n",
       "      <td>16.38</td>\n",
       "      <td>11.09</td>\n",
       "    </tr>\n",
       "    <tr>\n",
       "      <th>210</th>\n",
       "      <td>2</td>\n",
       "      <td>8</td>\n",
       "      <td>1</td>\n",
       "      <td>Clay loam</td>\n",
       "      <td>6.1</td>\n",
       "      <td>0.14</td>\n",
       "      <td>0.17</td>\n",
       "      <td>6.20</td>\n",
       "      <td>14.70</td>\n",
       "    </tr>\n",
       "    <tr>\n",
       "      <th>186</th>\n",
       "      <td>2</td>\n",
       "      <td>5</td>\n",
       "      <td>1</td>\n",
       "      <td>loam</td>\n",
       "      <td>5.3</td>\n",
       "      <td>0.16</td>\n",
       "      <td>0.06</td>\n",
       "      <td>4.00</td>\n",
       "      <td>20.30</td>\n",
       "    </tr>\n",
       "    <tr>\n",
       "      <th>179</th>\n",
       "      <td>2</td>\n",
       "      <td>5</td>\n",
       "      <td>1</td>\n",
       "      <td>loam</td>\n",
       "      <td>4.9</td>\n",
       "      <td>0.11</td>\n",
       "      <td>0.10</td>\n",
       "      <td>13.20</td>\n",
       "      <td>10.50</td>\n",
       "    </tr>\n",
       "    <tr>\n",
       "      <th>194</th>\n",
       "      <td>2</td>\n",
       "      <td>9</td>\n",
       "      <td>1</td>\n",
       "      <td>loam</td>\n",
       "      <td>5.4</td>\n",
       "      <td>0.14</td>\n",
       "      <td>0.07</td>\n",
       "      <td>17.00</td>\n",
       "      <td>35.70</td>\n",
       "    </tr>\n",
       "  </tbody>\n",
       "</table>\n",
       "</div>"
      ],
      "text/plain": [
       "    Area soil group Land class knit (surface)   pH  Nitrogen N (%)  \\\n",
       "462    1          5          1           loam  5.7            0.11   \n",
       "210    2          8          1     Clay loam   6.1            0.14   \n",
       "186    2          5          1           loam  5.3            0.16   \n",
       "179    2          5          1           loam  4.9            0.11   \n",
       "194    2          9          1           loam  5.4            0.14   \n",
       "\n",
       "     Potassium K (meq/100)  Phosphorus P (ug/g)  Sulfur S (ug/g)  \n",
       "462                   0.11                16.38            11.09  \n",
       "210                   0.17                 6.20            14.70  \n",
       "186                   0.06                 4.00            20.30  \n",
       "179                   0.10                13.20            10.50  \n",
       "194                   0.07                17.00            35.70  "
      ]
     },
     "execution_count": 103,
     "metadata": {},
     "output_type": "execute_result"
    }
   ],
   "source": [
    "X_train.head()"
   ]
  },
  {
   "cell_type": "code",
   "execution_count": 104,
   "metadata": {},
   "outputs": [
    {
     "data": {
      "text/html": [
       "<div>\n",
       "<style scoped>\n",
       "    .dataframe tbody tr th:only-of-type {\n",
       "        vertical-align: middle;\n",
       "    }\n",
       "\n",
       "    .dataframe tbody tr th {\n",
       "        vertical-align: top;\n",
       "    }\n",
       "\n",
       "    .dataframe thead th {\n",
       "        text-align: right;\n",
       "    }\n",
       "</style>\n",
       "<table border=\"1\" class=\"dataframe\">\n",
       "  <thead>\n",
       "    <tr style=\"text-align: right;\">\n",
       "      <th></th>\n",
       "      <th>Area</th>\n",
       "      <th>soil group</th>\n",
       "      <th>Land class</th>\n",
       "      <th>knit (surface)</th>\n",
       "      <th>pH</th>\n",
       "      <th>Nitrogen N (%)</th>\n",
       "      <th>Potassium K (meq/100)</th>\n",
       "      <th>Phosphorus P (ug/g)</th>\n",
       "      <th>Sulfur S (ug/g)</th>\n",
       "    </tr>\n",
       "  </thead>\n",
       "  <tbody>\n",
       "    <tr>\n",
       "      <th>612</th>\n",
       "      <td>4</td>\n",
       "      <td>24</td>\n",
       "      <td>1</td>\n",
       "      <td>NaN</td>\n",
       "      <td>5.4</td>\n",
       "      <td>0.11</td>\n",
       "      <td>0.17</td>\n",
       "      <td>30.00</td>\n",
       "      <td>11.00</td>\n",
       "    </tr>\n",
       "    <tr>\n",
       "      <th>280</th>\n",
       "      <td>3</td>\n",
       "      <td>5</td>\n",
       "      <td>4</td>\n",
       "      <td>loam</td>\n",
       "      <td>5.2</td>\n",
       "      <td>0.11</td>\n",
       "      <td>0.08</td>\n",
       "      <td>8.40</td>\n",
       "      <td>1.20</td>\n",
       "    </tr>\n",
       "    <tr>\n",
       "      <th>105</th>\n",
       "      <td>2</td>\n",
       "      <td>13</td>\n",
       "      <td>4</td>\n",
       "      <td>loam</td>\n",
       "      <td>5.2</td>\n",
       "      <td>0.07</td>\n",
       "      <td>0.29</td>\n",
       "      <td>16.80</td>\n",
       "      <td>5.00</td>\n",
       "    </tr>\n",
       "    <tr>\n",
       "      <th>478</th>\n",
       "      <td>1</td>\n",
       "      <td>6</td>\n",
       "      <td>1</td>\n",
       "      <td>loam clay</td>\n",
       "      <td>5.8</td>\n",
       "      <td>0.09</td>\n",
       "      <td>0.16</td>\n",
       "      <td>15.57</td>\n",
       "      <td>9.51</td>\n",
       "    </tr>\n",
       "    <tr>\n",
       "      <th>463</th>\n",
       "      <td>1</td>\n",
       "      <td>5</td>\n",
       "      <td>1</td>\n",
       "      <td>loam</td>\n",
       "      <td>5.0</td>\n",
       "      <td>0.10</td>\n",
       "      <td>0.13</td>\n",
       "      <td>14.51</td>\n",
       "      <td>8.94</td>\n",
       "    </tr>\n",
       "  </tbody>\n",
       "</table>\n",
       "</div>"
      ],
      "text/plain": [
       "    Area soil group Land class knit (surface)   pH  Nitrogen N (%)  \\\n",
       "612    4         24          1            NaN  5.4            0.11   \n",
       "280    3          5          4           loam  5.2            0.11   \n",
       "105    2         13          4           loam  5.2            0.07   \n",
       "478    1          6          1      loam clay  5.8            0.09   \n",
       "463    1          5          1           loam  5.0            0.10   \n",
       "\n",
       "     Potassium K (meq/100)  Phosphorus P (ug/g)  Sulfur S (ug/g)  \n",
       "612                   0.17                30.00            11.00  \n",
       "280                   0.08                 8.40             1.20  \n",
       "105                   0.29                16.80             5.00  \n",
       "478                   0.16                15.57             9.51  \n",
       "463                   0.13                14.51             8.94  "
      ]
     },
     "execution_count": 104,
     "metadata": {},
     "output_type": "execute_result"
    }
   ],
   "source": [
    "X_test.head()"
   ]
  },
  {
   "cell_type": "code",
   "execution_count": 105,
   "metadata": {},
   "outputs": [
    {
     "name": "stdout",
     "output_type": "stream",
     "text": [
      "R2 :  -5.213711515400109\n",
      "MAPE:  0.5428100648943309\n"
     ]
    }
   ],
   "source": [
    "# for RF model\n",
    "\n",
    "with mlflow.start_run(description=\"Random forest with numerical columns,Area,soil group and Land class\"):\n",
    "    model = RandomForestRegressor().fit(X=X_train.drop(columns=['knit (surface)']),y=y_train)\n",
    "    y_predict = model.predict(X_test.drop(columns=['knit (surface)']))\n",
    "    r2 = r2_score(y_test,y_predict)\n",
    "    mape = mean_absolute_percentage_error(y_pred=y_predict,y_true=y_test)\n",
    "    print('R2 : ',r2)\n",
    "    print('MAPE: ',mape)\n",
    "    mlflow.log_params({\"model\":\"Random forest with numerical columns,Area,soil group and Land class\"})\n",
    "    mlflow.log_metrics({\"R2\":r2,\"MAPE\":mape})\n"
   ]
  },
  {
   "cell_type": "code",
   "execution_count": 106,
   "metadata": {},
   "outputs": [
    {
     "name": "stdout",
     "output_type": "stream",
     "text": [
      "r2 :  0.005656615214409484\n",
      "MAPE:  0.589140421129096\n"
     ]
    }
   ],
   "source": [
    "from sklearn.linear_model import LinearRegression\n",
    "with mlflow.start_run(description=\"Linear regressor with only numerical columns and area, soil group and land class\"):\n",
    "    model = LinearRegression().fit(X=X_train.drop(columns=['knit (surface)']),y=y_train)\n",
    "    y_predict = model.predict(X_test.drop(columns=['knit (surface)']))\n",
    "    r2 = r2_score(y_test,y_predict)\n",
    "    mape = mean_absolute_percentage_error(y_pred=y_predict,y_true=y_test)\n",
    "    print('r2 : ',r2)\n",
    "    print('MAPE: ',mape)\n",
    "    mlflow.log_params({\"model\":\"Linear regressor with only numerical columns and area, soil group and land class\"})\n",
    "    mlflow.log_metrics({\"R2\":r2,\"MAPE\":mape})"
   ]
  },
  {
   "cell_type": "code",
   "execution_count": null,
   "metadata": {},
   "outputs": [],
   "source": []
  }
 ],
 "metadata": {
  "kernelspec": {
   "display_name": "base_env",
   "language": "python",
   "name": "python3"
  },
  "language_info": {
   "codemirror_mode": {
    "name": "ipython",
    "version": 3
   },
   "file_extension": ".py",
   "mimetype": "text/x-python",
   "name": "python",
   "nbconvert_exporter": "python",
   "pygments_lexer": "ipython3",
   "version": "3.8.17"
  }
 },
 "nbformat": 4,
 "nbformat_minor": 2
}
