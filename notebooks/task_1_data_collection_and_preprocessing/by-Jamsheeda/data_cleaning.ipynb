{
 "cells": [
  {
   "cell_type": "code",
   "execution_count": 1,
   "metadata": {},
   "outputs": [],
   "source": [
    "import pandas as pd"
   ]
  },
  {
   "cell_type": "code",
   "execution_count": 23,
   "metadata": {},
   "outputs": [
    {
     "data": {
      "text/plain": [
       "Index(['Area', 'soil group', 'Land class', 'knit (surface)', 'pH', 'SOC (%)',\n",
       "       'Nitrogen N (%)', 'Potassium K (meq/100)', 'Phosphorus P (ug/g)',\n",
       "       'Sulfur S (ug/g)', 'Boron B (ug/g)', 'Zinc Zn (ug/g)'],\n",
       "      dtype='object')"
      ]
     },
     "execution_count": 23,
     "metadata": {},
     "output_type": "execute_result"
    }
   ],
   "source": [
    "df = pd.read_excel('./Data/2410_iPAGE_SoilData_original.xlsx')\n",
    "df.columns"
   ]
  },
  {
   "cell_type": "code",
   "execution_count": 3,
   "metadata": {},
   "outputs": [
    {
     "data": {
      "text/plain": [
       "(618, 12)"
      ]
     },
     "execution_count": 3,
     "metadata": {},
     "output_type": "execute_result"
    }
   ],
   "source": [
    "df.shape"
   ]
  },
  {
   "cell_type": "code",
   "execution_count": 4,
   "metadata": {},
   "outputs": [
    {
     "data": {
      "text/plain": [
       "Area                       0\n",
       "soil group                 0\n",
       "Land class                 0\n",
       "knit (surface)           157\n",
       "pH                         0\n",
       "SOC (%)                    0\n",
       "Nitrogen N (%)             0\n",
       "Potassium K (meq/100)      0\n",
       "Phosphorus P (ug/g)        0\n",
       "Sulfur S (ug/g)            0\n",
       "Boron B (ug/g)             0\n",
       "Zinc Zn (ug/g)             0\n",
       "dtype: int64"
      ]
     },
     "execution_count": 4,
     "metadata": {},
     "output_type": "execute_result"
    }
   ],
   "source": [
    "df.isna().sum()\n",
    "# column Knit (surface has 157 NaN values)"
   ]
  },
  {
   "cell_type": "code",
   "execution_count": 6,
   "metadata": {},
   "outputs": [
    {
     "data": {
      "text/plain": [
       "Area                      object\n",
       "soil group                object\n",
       "Land class                object\n",
       "knit (surface)            object\n",
       "pH                        object\n",
       "SOC (%)                  float64\n",
       "Nitrogen N (%)            object\n",
       "Potassium K (meq/100)     object\n",
       "Phosphorus P (ug/g)       object\n",
       "Sulfur S (ug/g)           object\n",
       "Boron B (ug/g)            object\n",
       "Zinc Zn (ug/g)            object\n",
       "dtype: object"
      ]
     },
     "execution_count": 6,
     "metadata": {},
     "output_type": "execute_result"
    }
   ],
   "source": [
    "df.dtypes\n",
    "# here we can see that all the numerical columns other than SOC has some non numerical entries in it. "
   ]
  },
  {
   "cell_type": "code",
   "execution_count": 40,
   "metadata": {},
   "outputs": [
    {
     "name": "stdout",
     "output_type": "stream",
     "text": [
      "pH : 2\n",
      "SOC (%) : 0\n",
      "Nitrogen N (%) : 8\n",
      "Potassium K (meq/100) : 2\n",
      "Phosphorus P (ug/g) : 2\n",
      "Sulfur S (ug/g) : 1\n",
      "Boron B (ug/g) : 27\n",
      "Zinc Zn (ug/g) : 1\n"
     ]
    }
   ],
   "source": [
    "#checking the number of non numerical entries in the numerical columns\n",
    "for i in range(4,len(df.columns)):\n",
    "    num_non_numeric = pd.to_numeric(df[df.columns[i]],errors='coerce').isnull().sum()\n",
    "    print(df.columns[i],\":\",num_non_numeric)\n"
   ]
  },
  {
   "cell_type": "code",
   "execution_count": 44,
   "metadata": {},
   "outputs": [
    {
     "name": "stdout",
     "output_type": "stream",
     "text": [
      "pH\n",
      "151    4..80\n",
      "533     5.`3\n",
      "Name: pH, dtype: object\n",
      "-----------------------------------\n",
      "SOC (%)\n",
      "Series([], Name: SOC (%), dtype: float64)\n",
      "-----------------------------------\n",
      "Nitrogen N (%)\n",
      "382    Very Low\n",
      "389    Very Low\n",
      "390    Very Low\n",
      "402    Very Low\n",
      "412    Very Low\n",
      "413    Very Low\n",
      "415    Very Low\n",
      "617    Very Low\n",
      "Name: Nitrogen N (%), dtype: object\n",
      "-----------------------------------\n",
      "Potassium K (meq/100)\n",
      "471     .0.15\n",
      "512    ..0.30\n",
      "Name: Potassium K (meq/100), dtype: object\n",
      "-----------------------------------\n",
      "Phosphorus P (ug/g)\n",
      "439    0.65.87\n",
      "472     ......\n",
      "Name: Phosphorus P (ug/g), dtype: object\n",
      "-----------------------------------\n",
      "Sulfur S (ug/g)\n",
      "337    13..8\n",
      "Name: Sulfur S (ug/g), dtype: object\n",
      "-----------------------------------\n",
      "Boron B (ug/g)\n",
      "67        0.`44\n",
      "364    Very Low\n",
      "368    Very Low\n",
      "369    Very Low\n",
      "370    Very Low\n",
      "372    Very Low\n",
      "374    Very Low\n",
      "376    Very Low\n",
      "378    Very Low\n",
      "380    Very Low\n",
      "381    Very Low\n",
      "382    Very Low\n",
      "387    Very Low\n",
      "389    Very Low\n",
      "390    Very Low\n",
      "392    Very Low\n",
      "395    Very Low\n",
      "396    Very Low\n",
      "397    Very Low\n",
      "402    Very Low\n",
      "404    Very Low\n",
      "407    Very Low\n",
      "408    Very Low\n",
      "410    Very Low\n",
      "412    Very Low\n",
      "415    Very Low\n",
      "416    Very Low\n",
      "Name: Boron B (ug/g), dtype: object\n",
      "-----------------------------------\n",
      "Zinc Zn (ug/g)\n",
      "564    0..36\n",
      "Name: Zinc Zn (ug/g), dtype: object\n",
      "-----------------------------------\n"
     ]
    }
   ],
   "source": [
    "# checking the non numerical values in each of these columns\n",
    "for i in range(4,len(df.columns)):\n",
    "    is_non_numeric = pd.to_numeric(df[df.columns[i]],errors='coerce').isnull()\n",
    "    print(df.columns[i])\n",
    "    print(df[is_non_numeric][df.columns[i]])\n",
    "    print('-----------------------------------')"
   ]
  },
  {
   "cell_type": "code",
   "execution_count": null,
   "metadata": {},
   "outputs": [],
   "source": []
  }
 ],
 "metadata": {
  "kernelspec": {
   "display_name": "eda_env",
   "language": "python",
   "name": "python3"
  },
  "language_info": {
   "codemirror_mode": {
    "name": "ipython",
    "version": 3
   },
   "file_extension": ".py",
   "mimetype": "text/x-python",
   "name": "python",
   "nbconvert_exporter": "python",
   "pygments_lexer": "ipython3",
   "version": "3.8.17"
  },
  "orig_nbformat": 4
 },
 "nbformat": 4,
 "nbformat_minor": 2
}
