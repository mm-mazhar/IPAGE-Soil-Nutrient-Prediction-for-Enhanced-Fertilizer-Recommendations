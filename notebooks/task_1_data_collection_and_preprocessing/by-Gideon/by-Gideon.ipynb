{
 "cells": [
  {
   "cell_type": "markdown",
   "id": "abb434a5-7512-4a2a-aaf1-60d55acf6959",
   "metadata": {},
   "source": [
    "# Data Preprocessing"
   ]
  },
  {
   "cell_type": "code",
   "execution_count": 1,
   "id": "602133d3-d248-462a-8e82-043c0c32673a",
   "metadata": {},
   "outputs": [],
   "source": [
    "import pathlib\n",
    "import pandas as pd"
   ]
  },
  {
   "cell_type": "code",
   "execution_count": 2,
   "id": "3a2edee6-b218-4cca-86a6-5b5d4a1cf81e",
   "metadata": {},
   "outputs": [],
   "source": [
    "import sys"
   ]
  },
  {
   "cell_type": "markdown",
   "id": "a7861b79-3bfd-4629-8460-46385f29a224",
   "metadata": {},
   "source": [
    "## Load Dataset"
   ]
  },
  {
   "cell_type": "code",
   "execution_count": 3,
   "id": "8cd76a47-c838-4c9c-b389-8517fa01e6cf",
   "metadata": {},
   "outputs": [],
   "source": [
    "path = pathlib.Path()"
   ]
  },
  {
   "cell_type": "code",
   "execution_count": 4,
   "id": "4dc54ed9-75de-4533-bc3e-1be99d090dcd",
   "metadata": {},
   "outputs": [],
   "source": [
    "data_path = path.absolute().parents[2].joinpath('data/2410_iPAGE_SoilData-241029.csv')"
   ]
  },
  {
   "cell_type": "code",
   "execution_count": 6,
   "id": "36d36ec0-dc5a-4716-88d7-3a2342276303",
   "metadata": {},
   "outputs": [],
   "source": [
    "try:\n",
    "    df = pd.read_csv(data_path)\n",
    "except FileNotFoundError:\n",
    "    print(f'File not found, ensure file path \"{data_path}\" exits')\n",
    "    sys.exit(1)"
   ]
  },
  {
   "cell_type": "markdown",
   "id": "5064b025-b0b7-4d4d-a641-1cea7f24d0f7",
   "metadata": {},
   "source": [
    "## Explore Dataset"
   ]
  },
  {
   "cell_type": "code",
   "execution_count": 7,
   "id": "9b823f52-cf3d-4265-9eec-c47bb439144e",
   "metadata": {},
   "outputs": [
    {
     "data": {
      "text/html": [
       "<div>\n",
       "<style scoped>\n",
       "    .dataframe tbody tr th:only-of-type {\n",
       "        vertical-align: middle;\n",
       "    }\n",
       "\n",
       "    .dataframe tbody tr th {\n",
       "        vertical-align: top;\n",
       "    }\n",
       "\n",
       "    .dataframe thead th {\n",
       "        text-align: right;\n",
       "    }\n",
       "</style>\n",
       "<table border=\"1\" class=\"dataframe\">\n",
       "  <thead>\n",
       "    <tr style=\"text-align: right;\">\n",
       "      <th></th>\n",
       "      <th>Area</th>\n",
       "      <th>Data Collection Year</th>\n",
       "      <th>soil group</th>\n",
       "      <th>Land class</th>\n",
       "      <th>knit (surface)</th>\n",
       "      <th>pH</th>\n",
       "      <th>SOC (%)</th>\n",
       "      <th>Nitrogen N (%)</th>\n",
       "      <th>Potassium K (meq/100)</th>\n",
       "      <th>Phosphorus P (ug/g)</th>\n",
       "      <th>Sulfur S (ug/g)</th>\n",
       "      <th>Boron B (ug/g)</th>\n",
       "      <th>Zinc Zn (ug/g)</th>\n",
       "    </tr>\n",
       "  </thead>\n",
       "  <tbody>\n",
       "    <tr>\n",
       "      <th>0</th>\n",
       "      <td>Mithpukur</td>\n",
       "      <td>2005</td>\n",
       "      <td>belab</td>\n",
       "      <td>high ground</td>\n",
       "      <td>Clay loam</td>\n",
       "      <td>5.0</td>\n",
       "      <td>1.27</td>\n",
       "      <td>0.08</td>\n",
       "      <td>0.15</td>\n",
       "      <td>19.6</td>\n",
       "      <td>37.7</td>\n",
       "      <td>0.26</td>\n",
       "      <td>0.86</td>\n",
       "    </tr>\n",
       "    <tr>\n",
       "      <th>1</th>\n",
       "      <td>Mithpukur</td>\n",
       "      <td>2005</td>\n",
       "      <td>belab</td>\n",
       "      <td>high ground</td>\n",
       "      <td>Clay loam</td>\n",
       "      <td>4.9</td>\n",
       "      <td>1.47</td>\n",
       "      <td>0.09</td>\n",
       "      <td>0.25</td>\n",
       "      <td>4.1</td>\n",
       "      <td>32.0</td>\n",
       "      <td>0.25</td>\n",
       "      <td>0.75</td>\n",
       "    </tr>\n",
       "    <tr>\n",
       "      <th>2</th>\n",
       "      <td>Mithpukur</td>\n",
       "      <td>2005</td>\n",
       "      <td>belab</td>\n",
       "      <td>high ground</td>\n",
       "      <td>Clay loam</td>\n",
       "      <td>4.6</td>\n",
       "      <td>1.07</td>\n",
       "      <td>0.05</td>\n",
       "      <td>0.09</td>\n",
       "      <td>13.3</td>\n",
       "      <td>13.5</td>\n",
       "      <td>0.27</td>\n",
       "      <td>0.95</td>\n",
       "    </tr>\n",
       "    <tr>\n",
       "      <th>3</th>\n",
       "      <td>Mithpukur</td>\n",
       "      <td>2005</td>\n",
       "      <td>belab</td>\n",
       "      <td>high ground</td>\n",
       "      <td>Clay loam</td>\n",
       "      <td>5.2</td>\n",
       "      <td>1.51</td>\n",
       "      <td>0.06</td>\n",
       "      <td>0.30</td>\n",
       "      <td>20.2</td>\n",
       "      <td>30.0</td>\n",
       "      <td>0.28</td>\n",
       "      <td>1.0</td>\n",
       "    </tr>\n",
       "    <tr>\n",
       "      <th>4</th>\n",
       "      <td>Mithpukur</td>\n",
       "      <td>2005</td>\n",
       "      <td>belab</td>\n",
       "      <td>high ground</td>\n",
       "      <td>Clay loam</td>\n",
       "      <td>5.3</td>\n",
       "      <td>1.08</td>\n",
       "      <td>0.11</td>\n",
       "      <td>0.17</td>\n",
       "      <td>20.5</td>\n",
       "      <td>27.8</td>\n",
       "      <td>0.30</td>\n",
       "      <td>1.04</td>\n",
       "    </tr>\n",
       "  </tbody>\n",
       "</table>\n",
       "</div>"
      ],
      "text/plain": [
       "        Area  Data Collection Year soil group   Land class knit (surface)  \\\n",
       "0  Mithpukur                  2005      belab  high ground     Clay loam    \n",
       "1  Mithpukur                  2005      belab  high ground     Clay loam    \n",
       "2  Mithpukur                  2005      belab  high ground     Clay loam    \n",
       "3  Mithpukur                  2005      belab  high ground     Clay loam    \n",
       "4  Mithpukur                  2005      belab  high ground     Clay loam    \n",
       "\n",
       "    pH  SOC (%) Nitrogen N (%) Potassium K (meq/100) Phosphorus P (ug/g)  \\\n",
       "0  5.0     1.27           0.08                  0.15                19.6   \n",
       "1  4.9     1.47           0.09                  0.25                 4.1   \n",
       "2  4.6     1.07           0.05                  0.09                13.3   \n",
       "3  5.2     1.51           0.06                  0.30                20.2   \n",
       "4  5.3     1.08           0.11                  0.17                20.5   \n",
       "\n",
       "  Sulfur S (ug/g) Boron B (ug/g) Zinc Zn (ug/g)  \n",
       "0            37.7           0.26           0.86  \n",
       "1            32.0           0.25           0.75  \n",
       "2            13.5           0.27           0.95  \n",
       "3            30.0           0.28            1.0  \n",
       "4            27.8           0.30           1.04  "
      ]
     },
     "execution_count": 7,
     "metadata": {},
     "output_type": "execute_result"
    }
   ],
   "source": [
    "df.head()"
   ]
  },
  {
   "cell_type": "code",
   "execution_count": 8,
   "id": "41716d56-6e03-4682-8d87-dfb907d1f976",
   "metadata": {},
   "outputs": [
    {
     "name": "stdout",
     "output_type": "stream",
     "text": [
      "<class 'pandas.core.frame.DataFrame'>\n",
      "RangeIndex: 618 entries, 0 to 617\n",
      "Data columns (total 13 columns):\n",
      " #   Column                 Non-Null Count  Dtype  \n",
      "---  ------                 --------------  -----  \n",
      " 0   Area                   618 non-null    object \n",
      " 1   Data Collection Year   618 non-null    int64  \n",
      " 2   soil group             618 non-null    object \n",
      " 3   Land class             618 non-null    object \n",
      " 4   knit (surface)         461 non-null    object \n",
      " 5   pH                     618 non-null    object \n",
      " 6   SOC (%)                618 non-null    float64\n",
      " 7   Nitrogen N (%)         618 non-null    object \n",
      " 8   Potassium K (meq/100)  618 non-null    object \n",
      " 9   Phosphorus P (ug/g)    618 non-null    object \n",
      " 10  Sulfur S (ug/g)        618 non-null    object \n",
      " 11  Boron B (ug/g)         618 non-null    object \n",
      " 12  Zinc Zn (ug/g)         618 non-null    object \n",
      "dtypes: float64(1), int64(1), object(11)\n",
      "memory usage: 62.9+ KB\n"
     ]
    }
   ],
   "source": [
    "df.info()"
   ]
  },
  {
   "cell_type": "code",
   "execution_count": 9,
   "id": "ca4b521d-7399-4691-9728-74f050f26c3c",
   "metadata": {},
   "outputs": [
    {
     "data": {
      "text/plain": [
       "Area                       0\n",
       "Data Collection Year       0\n",
       "soil group                 0\n",
       "Land class                 0\n",
       "knit (surface)           157\n",
       "pH                         0\n",
       "SOC (%)                    0\n",
       "Nitrogen N (%)             0\n",
       "Potassium K (meq/100)      0\n",
       "Phosphorus P (ug/g)        0\n",
       "Sulfur S (ug/g)            0\n",
       "Boron B (ug/g)             0\n",
       "Zinc Zn (ug/g)             0\n",
       "dtype: int64"
      ]
     },
     "execution_count": 9,
     "metadata": {},
     "output_type": "execute_result"
    }
   ],
   "source": [
    "df.isnull().sum()"
   ]
  },
  {
   "cell_type": "markdown",
   "id": "8979bb72-e0ea-400f-991b-e719c235a626",
   "metadata": {},
   "source": [
    "### Data Quality Issue Discovered\n",
    "\n",
    "- Incorrect datatypes for column attribute `pH`, `Nitrogen N (%)`, `Potassium K (meq/100)`, `Phosphorus P (ug/g)`, `Sulfur S (ug/g)` , `Boron B (ug/g)`, and `Zinc Zn (ug/g)`\n",
    "- Column `knit (surface)` has 157 missing values"
   ]
  },
  {
   "cell_type": "markdown",
   "id": "e967bc4e-8e67-44e7-8c90-66e8d162996e",
   "metadata": {},
   "source": [
    "### Data Fix"
   ]
  },
  {
   "cell_type": "code",
   "execution_count": 18,
   "id": "fb759b2e-d6b2-4a16-875a-0ae0494f84c6",
   "metadata": {},
   "outputs": [],
   "source": [
    "numerical_cols = [\n",
    "    'pH', 'SOC (%)', 'Nitrogen N (%)',\n",
    "    'Potassium K (meq/100)', 'Phosphorus P (ug/g)',\n",
    "    'Sulfur S (ug/g)', 'Boron B (ug/g)', 'Zinc Zn (ug/g)'\n",
    "]\n"
   ]
  },
  {
   "cell_type": "code",
   "execution_count": 29,
   "id": "13139ff2-46d4-4623-872c-93a30b66c505",
   "metadata": {},
   "outputs": [],
   "source": [
    "df[numerical_cols] = df[numerical_cols].apply(pd.to_numeric, errors='coerce')"
   ]
  },
  {
   "cell_type": "code",
   "execution_count": 16,
   "id": "7e302dde-4d9a-44bc-a914-c1dbd8d43a93",
   "metadata": {},
   "outputs": [
    {
     "data": {
      "text/plain": [
       "np.int64(0)"
      ]
     },
     "execution_count": 16,
     "metadata": {},
     "output_type": "execute_result"
    }
   ],
   "source": [
    "df.duplicated().sum()"
   ]
  },
  {
   "cell_type": "code",
   "execution_count": null,
   "id": "552ebe33-2960-475a-bc1b-3a75a6760638",
   "metadata": {},
   "outputs": [],
   "source": []
  }
 ],
 "metadata": {
  "kernelspec": {
   "display_name": "Python 3 (ipykernel)",
   "language": "python",
   "name": "python3"
  },
  "language_info": {
   "codemirror_mode": {
    "name": "ipython",
    "version": 3
   },
   "file_extension": ".py",
   "mimetype": "text/x-python",
   "name": "python",
   "nbconvert_exporter": "python",
   "pygments_lexer": "ipython3",
   "version": "3.10.12"
  }
 },
 "nbformat": 4,
 "nbformat_minor": 5
}
